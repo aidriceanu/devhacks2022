{
 "cells": [
  {
   "cell_type": "code",
   "execution_count": 5,
   "id": "c75afb5a",
   "metadata": {},
   "outputs": [
    {
     "name": "stdout",
     "output_type": "stream",
     "text": [
      "Requirement already satisfied: pymongo in /Users/nekyian/opt/miniconda3/lib/python3.9/site-packages (4.3.3)\n",
      "Requirement already satisfied: dnspython<3.0.0,>=1.16.0 in /Users/nekyian/opt/miniconda3/lib/python3.9/site-packages (from pymongo) (2.2.1)\n"
     ]
    }
   ],
   "source": [
    "!pip install pymongo"
   ]
  },
  {
   "cell_type": "code",
   "execution_count": 10,
   "id": "83a8eec2",
   "metadata": {},
   "outputs": [],
   "source": [
    "import pymongo\n",
    "\n",
    "from pymongo import MongoClient"
   ]
  },
  {
   "cell_type": "code",
   "execution_count": 11,
   "id": "e110ff1f",
   "metadata": {},
   "outputs": [],
   "source": [
    "client = MongoClient(\"localhost\", 27017)"
   ]
  },
  {
   "cell_type": "code",
   "execution_count": 15,
   "id": "8ac138b2",
   "metadata": {},
   "outputs": [
    {
     "data": {
      "text/plain": [
       "Database(MongoClient(host=['localhost:27017'], document_class=dict, tz_aware=False, connect=True), 'test')"
      ]
     },
     "execution_count": 15,
     "metadata": {},
     "output_type": "execute_result"
    }
   ],
   "source": [
    "db = client['test']\n",
    "db"
   ]
  },
  {
   "cell_type": "code",
   "execution_count": 17,
   "id": "99132024",
   "metadata": {},
   "outputs": [
    {
     "name": "stdout",
     "output_type": "stream",
     "text": [
      "Requirement already satisfied: Faker in /Users/nekyian/opt/miniconda3/lib/python3.9/site-packages (15.3.2)\r\n",
      "Requirement already satisfied: python-dateutil>=2.4 in /Users/nekyian/opt/miniconda3/lib/python3.9/site-packages (from Faker) (2.8.2)\r\n",
      "Requirement already satisfied: six>=1.5 in /Users/nekyian/opt/miniconda3/lib/python3.9/site-packages (from python-dateutil>=2.4->Faker) (1.16.0)\r\n"
     ]
    }
   ],
   "source": [
    "!pip install Faker"
   ]
  },
  {
   "cell_type": "code",
   "execution_count": 20,
   "id": "5c8064ed",
   "metadata": {},
   "outputs": [
    {
     "name": "stdout",
     "output_type": "stream",
     "text": [
      "Joseph Lozano\n",
      "Barbara Jordan\n",
      "April Cunningham\n",
      "Kim Vargas\n",
      "Debra Hoover\n",
      "Terry Woods\n",
      "Debra Mcguire\n",
      "Jennifer Lopez\n",
      "Lori Alvarado\n",
      "Christina Harris\n"
     ]
    }
   ],
   "source": [
    "from faker import Faker\n",
    "fake = Faker()\n",
    "\n",
    "for _ in range(10):\n",
    "    \n",
    "  print(fake.name())"
   ]
  }
 ],
 "metadata": {
  "kernelspec": {
   "display_name": "Python 3 (ipykernel)",
   "language": "python",
   "name": "python3"
  },
  "language_info": {
   "codemirror_mode": {
    "name": "ipython",
    "version": 3
   },
   "file_extension": ".py",
   "mimetype": "text/x-python",
   "name": "python",
   "nbconvert_exporter": "python",
   "pygments_lexer": "ipython3",
   "version": "3.9.7"
  }
 },
 "nbformat": 4,
 "nbformat_minor": 5
}
