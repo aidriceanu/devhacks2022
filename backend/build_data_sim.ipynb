{
 "cells": [
  {
   "cell_type": "code",
   "execution_count": 1,
   "id": "4afc10d8",
   "metadata": {},
   "outputs": [
    {
     "name": "stdout",
     "output_type": "stream",
     "text": [
      "Requirement already satisfied: pymongo in /Users/nekyian/opt/miniconda3/lib/python3.9/site-packages (4.3.3)\r\n",
      "Requirement already satisfied: dnspython<3.0.0,>=1.16.0 in /Users/nekyian/opt/miniconda3/lib/python3.9/site-packages (from pymongo) (2.2.1)\r\n"
     ]
    }
   ],
   "source": [
    "!pip install pymongo"
   ]
  },
  {
   "cell_type": "code",
   "execution_count": 2,
   "id": "99d6444a",
   "metadata": {},
   "outputs": [],
   "source": [
    "import pymongo\n",
    "\n",
    "from pymongo import MongoClient"
   ]
  },
  {
   "cell_type": "code",
   "execution_count": 3,
   "id": "00965312",
   "metadata": {},
   "outputs": [],
   "source": [
    "client = MongoClient(\"localhost\", 27017)"
   ]
  },
  {
   "cell_type": "code",
   "execution_count": 4,
   "id": "c4b4e660",
   "metadata": {},
   "outputs": [
    {
     "data": {
      "text/plain": [
       "Database(MongoClient(host=['localhost:27017'], document_class=dict, tz_aware=False, connect=True), 'test')"
      ]
     },
     "execution_count": 4,
     "metadata": {},
     "output_type": "execute_result"
    }
   ],
   "source": [
    "db = client['test']\n",
    "db"
   ]
  },
  {
   "cell_type": "code",
   "execution_count": 5,
   "id": "ac6c3059",
   "metadata": {},
   "outputs": [
    {
     "name": "stdout",
     "output_type": "stream",
     "text": [
      "Requirement already satisfied: Faker in /Users/nekyian/opt/miniconda3/lib/python3.9/site-packages (15.3.2)\r\n",
      "Requirement already satisfied: python-dateutil>=2.4 in /Users/nekyian/opt/miniconda3/lib/python3.9/site-packages (from Faker) (2.8.2)\r\n",
      "Requirement already satisfied: six>=1.5 in /Users/nekyian/opt/miniconda3/lib/python3.9/site-packages (from python-dateutil>=2.4->Faker) (1.16.0)\r\n"
     ]
    }
   ],
   "source": [
    "!pip install Faker"
   ]
  },
  {
   "cell_type": "code",
   "execution_count": 6,
   "id": "e14d831f",
   "metadata": {},
   "outputs": [
    {
     "name": "stdout",
     "output_type": "stream",
     "text": [
      "Lori Ross\n",
      "Jared Fuentes\n",
      "Cory Rose\n",
      "David Davis\n",
      "Richard Lee\n",
      "Joseph Nichols\n",
      "Michael Sherman\n",
      "Melanie Beck\n",
      "Sharon Montgomery\n",
      "Raymond Vincent\n"
     ]
    }
   ],
   "source": [
    "from faker import Faker\n",
    "fake = Faker()\n",
    "\n",
    "for _ in range(10):\n",
    "    \n",
    "  print(fake.name())"
   ]
  },
  {
   "cell_type": "code",
   "execution_count": 7,
   "id": "71d294b3",
   "metadata": {},
   "outputs": [
    {
     "name": "stdout",
     "output_type": "stream",
     "text": [
      "Requirement already satisfied: pandas in /Users/nekyian/opt/miniconda3/lib/python3.9/site-packages (1.5.1)\n",
      "Requirement already satisfied: numpy in /Users/nekyian/opt/miniconda3/lib/python3.9/site-packages (1.22.3)\n",
      "Requirement already satisfied: matplotlib in /Users/nekyian/opt/miniconda3/lib/python3.9/site-packages (3.5.1)\n",
      "Requirement already satisfied: seaborn in /Users/nekyian/opt/miniconda3/lib/python3.9/site-packages (0.12.1)\n",
      "Requirement already satisfied: pytz>=2020.1 in /Users/nekyian/opt/miniconda3/lib/python3.9/site-packages (from pandas) (2022.6)\n",
      "Requirement already satisfied: python-dateutil>=2.8.1 in /Users/nekyian/opt/miniconda3/lib/python3.9/site-packages (from pandas) (2.8.2)\n",
      "Requirement already satisfied: packaging>=20.0 in /Users/nekyian/opt/miniconda3/lib/python3.9/site-packages (from matplotlib) (21.3)\n",
      "Requirement already satisfied: fonttools>=4.22.0 in /Users/nekyian/opt/miniconda3/lib/python3.9/site-packages (from matplotlib) (4.31.1)\n",
      "Requirement already satisfied: pyparsing>=2.2.1 in /Users/nekyian/opt/miniconda3/lib/python3.9/site-packages (from matplotlib) (3.0.7)\n",
      "Requirement already satisfied: kiwisolver>=1.0.1 in /Users/nekyian/opt/miniconda3/lib/python3.9/site-packages (from matplotlib) (1.4.0)\n",
      "Requirement already satisfied: cycler>=0.10 in /Users/nekyian/opt/miniconda3/lib/python3.9/site-packages (from matplotlib) (0.11.0)\n",
      "Requirement already satisfied: pillow>=6.2.0 in /Users/nekyian/opt/miniconda3/lib/python3.9/site-packages (from matplotlib) (9.0.1)\n",
      "Requirement already satisfied: six>=1.5 in /Users/nekyian/opt/miniconda3/lib/python3.9/site-packages (from python-dateutil>=2.8.1->pandas) (1.16.0)\n"
     ]
    }
   ],
   "source": [
    "!pip install pandas numpy matplotlib seaborn"
   ]
  },
  {
   "cell_type": "code",
   "execution_count": 8,
   "id": "05f9a4c3",
   "metadata": {},
   "outputs": [],
   "source": [
    "import pandas as pd\n",
    "import numpy as np\n",
    "from datetime import date\n",
    "from IPython.display import Markdown, display\n",
    "import matplotlib.pyplot as plt\n",
    "import seaborn as sns"
   ]
  },
  {
   "cell_type": "code",
   "execution_count": 9,
   "id": "e9fb30ab",
   "metadata": {},
   "outputs": [],
   "source": [
    " def printmd(string):\n",
    "    display(Markdown(string))"
   ]
  },
  {
   "cell_type": "code",
   "execution_count": 10,
   "id": "dfc75aa5",
   "metadata": {},
   "outputs": [
    {
     "data": {
      "text/html": [
       "<div>\n",
       "<style scoped>\n",
       "    .dataframe tbody tr th:only-of-type {\n",
       "        vertical-align: middle;\n",
       "    }\n",
       "\n",
       "    .dataframe tbody tr th {\n",
       "        vertical-align: top;\n",
       "    }\n",
       "\n",
       "    .dataframe thead th {\n",
       "        text-align: right;\n",
       "    }\n",
       "</style>\n",
       "<table border=\"1\" class=\"dataframe\">\n",
       "  <thead>\n",
       "    <tr style=\"text-align: right;\">\n",
       "      <th></th>\n",
       "      <th>patient</th>\n",
       "      <th>action</th>\n",
       "      <th>resource</th>\n",
       "      <th>datetime</th>\n",
       "    </tr>\n",
       "  </thead>\n",
       "  <tbody>\n",
       "    <tr>\n",
       "      <th>0</th>\n",
       "      <td>patient 0</td>\n",
       "      <td>First consult</td>\n",
       "      <td>Dr. Anna</td>\n",
       "      <td>2017-01-02 11:40:11</td>\n",
       "    </tr>\n",
       "    <tr>\n",
       "      <th>1</th>\n",
       "      <td>patient 0</td>\n",
       "      <td>Blood test</td>\n",
       "      <td>Lab</td>\n",
       "      <td>2017-01-02 12:47:33</td>\n",
       "    </tr>\n",
       "    <tr>\n",
       "      <th>2</th>\n",
       "      <td>patient 0</td>\n",
       "      <td>Physical test</td>\n",
       "      <td>Nurse Jesse</td>\n",
       "      <td>2017-01-02 12:53:50</td>\n",
       "    </tr>\n",
       "    <tr>\n",
       "      <th>3</th>\n",
       "      <td>patient 0</td>\n",
       "      <td>Second consult</td>\n",
       "      <td>Dr. Anna</td>\n",
       "      <td>2017-01-02 16:21:06</td>\n",
       "    </tr>\n",
       "    <tr>\n",
       "      <th>4</th>\n",
       "      <td>patient 0</td>\n",
       "      <td>Surgery</td>\n",
       "      <td>Dr. Charlie</td>\n",
       "      <td>2017-01-05 13:23:09</td>\n",
       "    </tr>\n",
       "  </tbody>\n",
       "</table>\n",
       "</div>"
      ],
      "text/plain": [
       "     patient           action      resource            datetime\n",
       "0  patient 0    First consult      Dr. Anna 2017-01-02 11:40:11\n",
       "1  patient 0       Blood test           Lab 2017-01-02 12:47:33\n",
       "2  patient 0    Physical test   Nurse Jesse 2017-01-02 12:53:50\n",
       "3  patient 0   Second consult      Dr. Anna 2017-01-02 16:21:06\n",
       "4  patient 0          Surgery   Dr. Charlie 2017-01-05 13:23:09"
      ]
     },
     "execution_count": 10,
     "metadata": {},
     "output_type": "execute_result"
    }
   ],
   "source": [
    "fn = 'data/ArtificialPatientTreatment.csv'\n",
    "events = pd.read_csv(fn)\n",
    "\n",
    "events.columns = ['patient', 'action', 'resource', 'datetime']\n",
    "events['datetime'] = pd.to_datetime(events['datetime'])\n",
    "events.head()"
   ]
  },
  {
   "cell_type": "code",
   "execution_count": null,
   "id": "78ed7e90",
   "metadata": {},
   "outputs": [],
   "source": [
    "evaluators = [\"teacher\", \"parent\", \"shadow\", \"nanny\", \"relative\"]\n",
    "actions = [\"evaluation\", \"situation\", \"activity\"]\n",
    "activities = [\"washed his hands\", \"ate today\", \"played with sister\", \"walk in park\"]\n",
    "situations = [\n",
    "      {\n",
    "        \"label\": \"No eye contact\",\n",
    "        \"type\": \"bad\"\n",
    "      },\n",
    "      {\n",
    "        \"label\": \"Skipped a meal\",\n",
    "        \"type\": \"bad\"\n",
    "      },\n",
    "      {\n",
    "        \"label\": \"Had a tantrum\",\n",
    "        \"type\": \"bad\"\n",
    "      },\n",
    "      {\n",
    "        \"label\": \"Talked in proposition\",\n",
    "        \"type\": \"good\"\n",
    "      },\n",
    "      {\n",
    "        \"label\": \"Asked for help\",\n",
    "        \"type\": \"good\"\n",
    "      },\n",
    "      {\n",
    "        \"label\": \"Helped with laundry\",\n",
    "        \"type\": \"good\"\n",
    "      }\n",
    "]\n",
    "\n",
    "for i in range(100):\n",
    "    "
   ]
  },
  {
   "cell_type": "code",
   "execution_count": 11,
   "id": "4051e060",
   "metadata": {},
   "outputs": [
    {
     "name": "stdout",
     "output_type": "stream",
     "text": [
      "data/ArtificialPatientTreatment.csv has 690 rows and 4 columns.\n"
     ]
    }
   ],
   "source": [
    "print('{} has {} rows and {} columns.'.format(fn, events.shape[0], events.shape[1]))"
   ]
  },
  {
   "cell_type": "code",
   "execution_count": 12,
   "id": "29e1ca04",
   "metadata": {},
   "outputs": [
    {
     "data": {
      "text/html": [
       "<div>\n",
       "<style scoped>\n",
       "    .dataframe tbody tr th:only-of-type {\n",
       "        vertical-align: middle;\n",
       "    }\n",
       "\n",
       "    .dataframe tbody tr th {\n",
       "        vertical-align: top;\n",
       "    }\n",
       "\n",
       "    .dataframe thead th {\n",
       "        text-align: right;\n",
       "    }\n",
       "</style>\n",
       "<table border=\"1\" class=\"dataframe\">\n",
       "  <thead>\n",
       "    <tr style=\"text-align: right;\">\n",
       "      <th></th>\n",
       "      <th>patient</th>\n",
       "      <th>action</th>\n",
       "      <th>resource</th>\n",
       "      <th>datetime</th>\n",
       "      <th>caseend</th>\n",
       "      <th>casestart</th>\n",
       "      <th>relativetime</th>\n",
       "    </tr>\n",
       "  </thead>\n",
       "  <tbody>\n",
       "    <tr>\n",
       "      <th>0</th>\n",
       "      <td>patient 0</td>\n",
       "      <td>First consult</td>\n",
       "      <td>Dr. Anna</td>\n",
       "      <td>2017-01-02 11:40:11</td>\n",
       "      <td>2017-01-09 08:29:28</td>\n",
       "      <td>2017-01-02 11:40:11</td>\n",
       "      <td>0 days 00:00:00</td>\n",
       "    </tr>\n",
       "    <tr>\n",
       "      <th>1</th>\n",
       "      <td>patient 0</td>\n",
       "      <td>Blood test</td>\n",
       "      <td>Lab</td>\n",
       "      <td>2017-01-02 12:47:33</td>\n",
       "      <td>2017-01-09 08:29:28</td>\n",
       "      <td>2017-01-02 11:40:11</td>\n",
       "      <td>0 days 01:07:22</td>\n",
       "    </tr>\n",
       "    <tr>\n",
       "      <th>2</th>\n",
       "      <td>patient 0</td>\n",
       "      <td>Physical test</td>\n",
       "      <td>Nurse Jesse</td>\n",
       "      <td>2017-01-02 12:53:50</td>\n",
       "      <td>2017-01-09 08:29:28</td>\n",
       "      <td>2017-01-02 11:40:11</td>\n",
       "      <td>0 days 01:13:39</td>\n",
       "    </tr>\n",
       "    <tr>\n",
       "      <th>3</th>\n",
       "      <td>patient 0</td>\n",
       "      <td>Second consult</td>\n",
       "      <td>Dr. Anna</td>\n",
       "      <td>2017-01-02 16:21:06</td>\n",
       "      <td>2017-01-09 08:29:28</td>\n",
       "      <td>2017-01-02 11:40:11</td>\n",
       "      <td>0 days 04:40:55</td>\n",
       "    </tr>\n",
       "    <tr>\n",
       "      <th>4</th>\n",
       "      <td>patient 0</td>\n",
       "      <td>Surgery</td>\n",
       "      <td>Dr. Charlie</td>\n",
       "      <td>2017-01-05 13:23:09</td>\n",
       "      <td>2017-01-09 08:29:28</td>\n",
       "      <td>2017-01-02 11:40:11</td>\n",
       "      <td>3 days 01:42:58</td>\n",
       "    </tr>\n",
       "  </tbody>\n",
       "</table>\n",
       "</div>"
      ],
      "text/plain": [
       "     patient           action      resource            datetime  \\\n",
       "0  patient 0    First consult      Dr. Anna 2017-01-02 11:40:11   \n",
       "1  patient 0       Blood test           Lab 2017-01-02 12:47:33   \n",
       "2  patient 0    Physical test   Nurse Jesse 2017-01-02 12:53:50   \n",
       "3  patient 0   Second consult      Dr. Anna 2017-01-02 16:21:06   \n",
       "4  patient 0          Surgery   Dr. Charlie 2017-01-05 13:23:09   \n",
       "\n",
       "              caseend           casestart    relativetime  \n",
       "0 2017-01-09 08:29:28 2017-01-02 11:40:11 0 days 00:00:00  \n",
       "1 2017-01-09 08:29:28 2017-01-02 11:40:11 0 days 01:07:22  \n",
       "2 2017-01-09 08:29:28 2017-01-02 11:40:11 0 days 01:13:39  \n",
       "3 2017-01-09 08:29:28 2017-01-02 11:40:11 0 days 04:40:55  \n",
       "4 2017-01-09 08:29:28 2017-01-02 11:40:11 3 days 01:42:58  "
      ]
     },
     "execution_count": 12,
     "metadata": {},
     "output_type": "execute_result"
    }
   ],
   "source": [
    " ## Get the case start times to get the time deltas for the 'age' of each activity with respect to start\n",
    "case_starts_ends = events.pivot_table(index='patient', aggfunc={'datetime': ['min', 'max']})\n",
    "case_starts_ends = case_starts_ends.reset_index()\n",
    "case_starts_ends.columns = ['patient', 'caseend', 'casestart']\n",
    "events = events.merge(case_starts_ends, on='patient')\n",
    "events['relativetime'] = events['datetime'] - events['casestart']\n",
    "events.head()"
   ]
  },
  {
   "cell_type": "code",
   "execution_count": 13,
   "id": "fe9c3796",
   "metadata": {},
   "outputs": [],
   "source": [
    "events['action'] = events['action'].apply(lambda x: x.strip()) "
   ]
  },
  {
   "cell_type": "code",
   "execution_count": 14,
   "id": "22042306",
   "metadata": {},
   "outputs": [
    {
     "data": {
      "text/html": [
       "<div>\n",
       "<style scoped>\n",
       "    .dataframe tbody tr th:only-of-type {\n",
       "        vertical-align: middle;\n",
       "    }\n",
       "\n",
       "    .dataframe tbody tr th {\n",
       "        vertical-align: top;\n",
       "    }\n",
       "\n",
       "    .dataframe thead th {\n",
       "        text-align: right;\n",
       "    }\n",
       "</style>\n",
       "<table border=\"1\" class=\"dataframe\">\n",
       "  <thead>\n",
       "    <tr style=\"text-align: right;\">\n",
       "      <th></th>\n",
       "      <th>patient</th>\n",
       "      <th>action</th>\n",
       "      <th>resource</th>\n",
       "      <th>datetime</th>\n",
       "      <th>caseend</th>\n",
       "      <th>casestart</th>\n",
       "      <th>relativetime</th>\n",
       "      <th>action_sequence</th>\n",
       "      <th>numactions</th>\n",
       "      <th>caselength</th>\n",
       "    </tr>\n",
       "  </thead>\n",
       "  <tbody>\n",
       "    <tr>\n",
       "      <th>0</th>\n",
       "      <td>patient 0</td>\n",
       "      <td>First consult</td>\n",
       "      <td>Dr. Anna</td>\n",
       "      <td>2017-01-02 11:40:11</td>\n",
       "      <td>2017-01-09 08:29:28</td>\n",
       "      <td>2017-01-02 11:40:11</td>\n",
       "      <td>0 days 00:00:00</td>\n",
       "      <td>First consult___Blood test___Physical test___S...</td>\n",
       "      <td>6</td>\n",
       "      <td>6 days 20:49:17</td>\n",
       "    </tr>\n",
       "    <tr>\n",
       "      <th>1</th>\n",
       "      <td>patient 0</td>\n",
       "      <td>Blood test</td>\n",
       "      <td>Lab</td>\n",
       "      <td>2017-01-02 12:47:33</td>\n",
       "      <td>2017-01-09 08:29:28</td>\n",
       "      <td>2017-01-02 11:40:11</td>\n",
       "      <td>0 days 01:07:22</td>\n",
       "      <td>First consult___Blood test___Physical test___S...</td>\n",
       "      <td>6</td>\n",
       "      <td>6 days 20:49:17</td>\n",
       "    </tr>\n",
       "    <tr>\n",
       "      <th>2</th>\n",
       "      <td>patient 0</td>\n",
       "      <td>Physical test</td>\n",
       "      <td>Nurse Jesse</td>\n",
       "      <td>2017-01-02 12:53:50</td>\n",
       "      <td>2017-01-09 08:29:28</td>\n",
       "      <td>2017-01-02 11:40:11</td>\n",
       "      <td>0 days 01:13:39</td>\n",
       "      <td>First consult___Blood test___Physical test___S...</td>\n",
       "      <td>6</td>\n",
       "      <td>6 days 20:49:17</td>\n",
       "    </tr>\n",
       "    <tr>\n",
       "      <th>3</th>\n",
       "      <td>patient 0</td>\n",
       "      <td>Second consult</td>\n",
       "      <td>Dr. Anna</td>\n",
       "      <td>2017-01-02 16:21:06</td>\n",
       "      <td>2017-01-09 08:29:28</td>\n",
       "      <td>2017-01-02 11:40:11</td>\n",
       "      <td>0 days 04:40:55</td>\n",
       "      <td>First consult___Blood test___Physical test___S...</td>\n",
       "      <td>6</td>\n",
       "      <td>6 days 20:49:17</td>\n",
       "    </tr>\n",
       "    <tr>\n",
       "      <th>4</th>\n",
       "      <td>patient 0</td>\n",
       "      <td>Surgery</td>\n",
       "      <td>Dr. Charlie</td>\n",
       "      <td>2017-01-05 13:23:09</td>\n",
       "      <td>2017-01-09 08:29:28</td>\n",
       "      <td>2017-01-02 11:40:11</td>\n",
       "      <td>3 days 01:42:58</td>\n",
       "      <td>First consult___Blood test___Physical test___S...</td>\n",
       "      <td>6</td>\n",
       "      <td>6 days 20:49:17</td>\n",
       "    </tr>\n",
       "  </tbody>\n",
       "</table>\n",
       "</div>"
      ],
      "text/plain": [
       "     patient          action      resource            datetime  \\\n",
       "0  patient 0   First consult      Dr. Anna 2017-01-02 11:40:11   \n",
       "1  patient 0      Blood test           Lab 2017-01-02 12:47:33   \n",
       "2  patient 0   Physical test   Nurse Jesse 2017-01-02 12:53:50   \n",
       "3  patient 0  Second consult      Dr. Anna 2017-01-02 16:21:06   \n",
       "4  patient 0         Surgery   Dr. Charlie 2017-01-05 13:23:09   \n",
       "\n",
       "              caseend           casestart    relativetime  \\\n",
       "0 2017-01-09 08:29:28 2017-01-02 11:40:11 0 days 00:00:00   \n",
       "1 2017-01-09 08:29:28 2017-01-02 11:40:11 0 days 01:07:22   \n",
       "2 2017-01-09 08:29:28 2017-01-02 11:40:11 0 days 01:13:39   \n",
       "3 2017-01-09 08:29:28 2017-01-02 11:40:11 0 days 04:40:55   \n",
       "4 2017-01-09 08:29:28 2017-01-02 11:40:11 3 days 01:42:58   \n",
       "\n",
       "                                     action_sequence  numactions  \\\n",
       "0  First consult___Blood test___Physical test___S...           6   \n",
       "1  First consult___Blood test___Physical test___S...           6   \n",
       "2  First consult___Blood test___Physical test___S...           6   \n",
       "3  First consult___Blood test___Physical test___S...           6   \n",
       "4  First consult___Blood test___Physical test___S...           6   \n",
       "\n",
       "       caselength  \n",
       "0 6 days 20:49:17  \n",
       "1 6 days 20:49:17  \n",
       "2 6 days 20:49:17  \n",
       "3 6 days 20:49:17  \n",
       "4 6 days 20:49:17  "
      ]
     },
     "execution_count": 14,
     "metadata": {},
     "output_type": "execute_result"
    }
   ],
   "source": [
    "delimiter = '___'\n",
    "\n",
    "makeEventString = lambda x: delimiter.join(x)\n",
    "makeEventString.__name__ = 'makeEventString'\n",
    "\n",
    "numEvents = lambda x: len(x)\n",
    "numEvents.__name__ = 'numEvents'\n",
    "\n",
    "\n",
    "caselogs = events.pivot_table(index='patient', aggfunc={'action': [makeEventString, numEvents]})\n",
    "caselogs = caselogs.reset_index()\n",
    "caselogs.columns = ['patient', 'action_sequence', 'numactions']\n",
    "\n",
    "events = pd.merge(events, caselogs, on='patient')\n",
    "events['caselength'] = events['caseend'] - events['casestart']\n",
    "\n",
    "events.head()"
   ]
  },
  {
   "cell_type": "code",
   "execution_count": 15,
   "id": "32e99b7f",
   "metadata": {},
   "outputs": [],
   "source": [
    " ## Get day of week\n",
    "events['weekday'] = events['datetime'].apply(lambda x: x.weekday())\n",
    "events['date'] = events['datetime'].apply(lambda x: x.date())\n",
    "events['startdate'] = events['casestart'].apply(lambda x: x.date())\n",
    "events['hour'] = events['datetime'].apply(lambda x: x.time().hour)\n",
    "## Get relative times in more friendly terms\n",
    "events['relativetime_s'] = events['relativetime'].dt.seconds + 86400*events['relativetime'].dt.days\n",
    "events['relativedays'] = events['relativetime'].dt.days"
   ]
  },
  {
   "cell_type": "code",
   "execution_count": 16,
   "id": "894ad52a",
   "metadata": {},
   "outputs": [
    {
     "data": {
      "text/html": [
       "<div>\n",
       "<style scoped>\n",
       "    .dataframe tbody tr th:only-of-type {\n",
       "        vertical-align: middle;\n",
       "    }\n",
       "\n",
       "    .dataframe tbody tr th {\n",
       "        vertical-align: top;\n",
       "    }\n",
       "\n",
       "    .dataframe thead th {\n",
       "        text-align: right;\n",
       "    }\n",
       "</style>\n",
       "<table border=\"1\" class=\"dataframe\">\n",
       "  <thead>\n",
       "    <tr style=\"text-align: right;\">\n",
       "      <th></th>\n",
       "      <th>patient</th>\n",
       "      <th>action</th>\n",
       "      <th>resource</th>\n",
       "      <th>datetime</th>\n",
       "      <th>caseend</th>\n",
       "      <th>casestart</th>\n",
       "      <th>relativetime</th>\n",
       "      <th>action_sequence</th>\n",
       "      <th>numactions</th>\n",
       "      <th>caselength</th>\n",
       "      <th>weekday</th>\n",
       "      <th>date</th>\n",
       "      <th>startdate</th>\n",
       "      <th>hour</th>\n",
       "      <th>relativetime_s</th>\n",
       "      <th>relativedays</th>\n",
       "    </tr>\n",
       "  </thead>\n",
       "  <tbody>\n",
       "    <tr>\n",
       "      <th>0</th>\n",
       "      <td>patient 0</td>\n",
       "      <td>First consult</td>\n",
       "      <td>Dr. Anna</td>\n",
       "      <td>2017-01-02 11:40:11</td>\n",
       "      <td>2017-01-09 08:29:28</td>\n",
       "      <td>2017-01-02 11:40:11</td>\n",
       "      <td>0 days 00:00:00</td>\n",
       "      <td>First consult___Blood test___Physical test___S...</td>\n",
       "      <td>6</td>\n",
       "      <td>6 days 20:49:17</td>\n",
       "      <td>0</td>\n",
       "      <td>2017-01-02</td>\n",
       "      <td>2017-01-02</td>\n",
       "      <td>11</td>\n",
       "      <td>0</td>\n",
       "      <td>0</td>\n",
       "    </tr>\n",
       "    <tr>\n",
       "      <th>1</th>\n",
       "      <td>patient 0</td>\n",
       "      <td>Blood test</td>\n",
       "      <td>Lab</td>\n",
       "      <td>2017-01-02 12:47:33</td>\n",
       "      <td>2017-01-09 08:29:28</td>\n",
       "      <td>2017-01-02 11:40:11</td>\n",
       "      <td>0 days 01:07:22</td>\n",
       "      <td>First consult___Blood test___Physical test___S...</td>\n",
       "      <td>6</td>\n",
       "      <td>6 days 20:49:17</td>\n",
       "      <td>0</td>\n",
       "      <td>2017-01-02</td>\n",
       "      <td>2017-01-02</td>\n",
       "      <td>12</td>\n",
       "      <td>4042</td>\n",
       "      <td>0</td>\n",
       "    </tr>\n",
       "    <tr>\n",
       "      <th>2</th>\n",
       "      <td>patient 0</td>\n",
       "      <td>Physical test</td>\n",
       "      <td>Nurse Jesse</td>\n",
       "      <td>2017-01-02 12:53:50</td>\n",
       "      <td>2017-01-09 08:29:28</td>\n",
       "      <td>2017-01-02 11:40:11</td>\n",
       "      <td>0 days 01:13:39</td>\n",
       "      <td>First consult___Blood test___Physical test___S...</td>\n",
       "      <td>6</td>\n",
       "      <td>6 days 20:49:17</td>\n",
       "      <td>0</td>\n",
       "      <td>2017-01-02</td>\n",
       "      <td>2017-01-02</td>\n",
       "      <td>12</td>\n",
       "      <td>4419</td>\n",
       "      <td>0</td>\n",
       "    </tr>\n",
       "    <tr>\n",
       "      <th>3</th>\n",
       "      <td>patient 0</td>\n",
       "      <td>Second consult</td>\n",
       "      <td>Dr. Anna</td>\n",
       "      <td>2017-01-02 16:21:06</td>\n",
       "      <td>2017-01-09 08:29:28</td>\n",
       "      <td>2017-01-02 11:40:11</td>\n",
       "      <td>0 days 04:40:55</td>\n",
       "      <td>First consult___Blood test___Physical test___S...</td>\n",
       "      <td>6</td>\n",
       "      <td>6 days 20:49:17</td>\n",
       "      <td>0</td>\n",
       "      <td>2017-01-02</td>\n",
       "      <td>2017-01-02</td>\n",
       "      <td>16</td>\n",
       "      <td>16855</td>\n",
       "      <td>0</td>\n",
       "    </tr>\n",
       "    <tr>\n",
       "      <th>4</th>\n",
       "      <td>patient 0</td>\n",
       "      <td>Surgery</td>\n",
       "      <td>Dr. Charlie</td>\n",
       "      <td>2017-01-05 13:23:09</td>\n",
       "      <td>2017-01-09 08:29:28</td>\n",
       "      <td>2017-01-02 11:40:11</td>\n",
       "      <td>3 days 01:42:58</td>\n",
       "      <td>First consult___Blood test___Physical test___S...</td>\n",
       "      <td>6</td>\n",
       "      <td>6 days 20:49:17</td>\n",
       "      <td>3</td>\n",
       "      <td>2017-01-05</td>\n",
       "      <td>2017-01-02</td>\n",
       "      <td>13</td>\n",
       "      <td>265378</td>\n",
       "      <td>3</td>\n",
       "    </tr>\n",
       "  </tbody>\n",
       "</table>\n",
       "</div>"
      ],
      "text/plain": [
       "     patient          action      resource            datetime  \\\n",
       "0  patient 0   First consult      Dr. Anna 2017-01-02 11:40:11   \n",
       "1  patient 0      Blood test           Lab 2017-01-02 12:47:33   \n",
       "2  patient 0   Physical test   Nurse Jesse 2017-01-02 12:53:50   \n",
       "3  patient 0  Second consult      Dr. Anna 2017-01-02 16:21:06   \n",
       "4  patient 0         Surgery   Dr. Charlie 2017-01-05 13:23:09   \n",
       "\n",
       "              caseend           casestart    relativetime  \\\n",
       "0 2017-01-09 08:29:28 2017-01-02 11:40:11 0 days 00:00:00   \n",
       "1 2017-01-09 08:29:28 2017-01-02 11:40:11 0 days 01:07:22   \n",
       "2 2017-01-09 08:29:28 2017-01-02 11:40:11 0 days 01:13:39   \n",
       "3 2017-01-09 08:29:28 2017-01-02 11:40:11 0 days 04:40:55   \n",
       "4 2017-01-09 08:29:28 2017-01-02 11:40:11 3 days 01:42:58   \n",
       "\n",
       "                                     action_sequence  numactions  \\\n",
       "0  First consult___Blood test___Physical test___S...           6   \n",
       "1  First consult___Blood test___Physical test___S...           6   \n",
       "2  First consult___Blood test___Physical test___S...           6   \n",
       "3  First consult___Blood test___Physical test___S...           6   \n",
       "4  First consult___Blood test___Physical test___S...           6   \n",
       "\n",
       "       caselength  weekday        date   startdate  hour  relativetime_s  \\\n",
       "0 6 days 20:49:17        0  2017-01-02  2017-01-02    11               0   \n",
       "1 6 days 20:49:17        0  2017-01-02  2017-01-02    12            4042   \n",
       "2 6 days 20:49:17        0  2017-01-02  2017-01-02    12            4419   \n",
       "3 6 days 20:49:17        0  2017-01-02  2017-01-02    16           16855   \n",
       "4 6 days 20:49:17        3  2017-01-05  2017-01-02    13          265378   \n",
       "\n",
       "   relativedays  \n",
       "0             0  \n",
       "1             0  \n",
       "2             0  \n",
       "3             0  \n",
       "4             3  "
      ]
     },
     "execution_count": 16,
     "metadata": {},
     "output_type": "execute_result"
    }
   ],
   "source": [
    "events.head()"
   ]
  },
  {
   "cell_type": "markdown",
   "id": "f33c9c6b",
   "metadata": {},
   "source": [
    " # Questions\n",
    " \n",
    " ### What is the minimum number of events per case?"
   ]
  },
  {
   "cell_type": "code",
   "execution_count": 17,
   "id": "3bd000e3",
   "metadata": {},
   "outputs": [
    {
     "data": {
      "text/markdown": [
       "**Minimum number of events per case**: 6"
      ],
      "text/plain": [
       "<IPython.core.display.Markdown object>"
      ]
     },
     "metadata": {},
     "output_type": "display_data"
    }
   ],
   "source": [
    "printmd('**Minimum number of events per case**: {}'.format(min(events['patient'].value_counts()))) "
   ]
  },
  {
   "cell_type": "markdown",
   "id": "a098c21b",
   "metadata": {},
   "source": [
    "### Patient 26\n",
    "\n",
    "- Which doctor did s/he have his/her consultation with?\n",
    "- Which doctor did s/he have his/her consultation with?"
   ]
  },
  {
   "cell_type": "code",
   "execution_count": 18,
   "id": "08d80269",
   "metadata": {},
   "outputs": [
    {
     "data": {
      "text/markdown": [
       "**First doctor**:  Dr. Bob"
      ],
      "text/plain": [
       "<IPython.core.display.Markdown object>"
      ]
     },
     "metadata": {},
     "output_type": "display_data"
    },
    {
     "data": {
      "text/markdown": [
       "**Last doctor**:  Dr. Ben"
      ],
      "text/plain": [
       "<IPython.core.display.Markdown object>"
      ]
     },
     "metadata": {},
     "output_type": "display_data"
    }
   ],
   "source": [
    "first_doctor = events[events['datetime']==min(events[events['patient']=='patient 26']['datetime'])]['resource'].values[0]\n",
    "last_doctor = events[events['datetime']==max(events[events['patient']=='patient 26']['datetime'])]['resource'].values[0]\n",
    "printmd('**First doctor**: {}'.format(first_doctor))\n",
    "printmd('**Last doctor**: {}'.format(last_doctor))"
   ]
  },
  {
   "cell_type": "markdown",
   "id": "99ece43c",
   "metadata": {},
   "source": [
    "### Which activity has the lowest occurrence overall in the event log?"
   ]
  },
  {
   "cell_type": "code",
   "execution_count": 19,
   "id": "ef065d02",
   "metadata": {},
   "outputs": [
    {
     "data": {
      "text/markdown": [
       "**Activity with lowest occurrence**: Surgery"
      ],
      "text/plain": [
       "<IPython.core.display.Markdown object>"
      ]
     },
     "metadata": {},
     "output_type": "display_data"
    }
   ],
   "source": [
    "printmd('**Activity with lowest occurrence**: {}'.format(events['action'].value_counts().sort_values().idxmin())) "
   ]
  },
  {
   "cell_type": "markdown",
   "id": "eab2c6b1",
   "metadata": {},
   "source": [
    "# Visualisations"
   ]
  },
  {
   "cell_type": "code",
   "execution_count": null,
   "id": "d117821f",
   "metadata": {},
   "outputs": [],
   "source": []
  },
  {
   "cell_type": "markdown",
   "id": "8b893691",
   "metadata": {},
   "source": [
    "# Process Mining"
   ]
  },
  {
   "cell_type": "code",
   "execution_count": 20,
   "id": "b7a34b21",
   "metadata": {},
   "outputs": [
    {
     "name": "stdout",
     "output_type": "stream",
     "text": [
      "Requirement already satisfied: pm4py in /Users/nekyian/.local/lib/python3.9/site-packages (2.2.32)\n",
      "Requirement already satisfied: cvxopt in /Users/nekyian/.local/lib/python3.9/site-packages (from pm4py) (1.3.0)\n",
      "Requirement already satisfied: sympy in /Users/nekyian/.local/lib/python3.9/site-packages (from pm4py) (1.11.1)\n",
      "Requirement already satisfied: lxml in /Users/nekyian/.local/lib/python3.9/site-packages (from pm4py) (4.9.1)\n",
      "Requirement already satisfied: tqdm in /Users/nekyian/opt/miniconda3/lib/python3.9/site-packages (from pm4py) (4.62.3)\n",
      "Requirement already satisfied: pyvis in /Users/nekyian/.local/lib/python3.9/site-packages (from pm4py) (0.3.1)\n",
      "Requirement already satisfied: networkx in /Users/nekyian/.local/lib/python3.9/site-packages (from pm4py) (2.8.8)\n",
      "Requirement already satisfied: intervaltree in /Users/nekyian/.local/lib/python3.9/site-packages (from pm4py) (3.1.0)\n",
      "Requirement already satisfied: scipy in /Users/nekyian/.local/lib/python3.9/site-packages (from pm4py) (1.9.3)\n",
      "Requirement already satisfied: pandas>=1.1.5 in /Users/nekyian/opt/miniconda3/lib/python3.9/site-packages (from pm4py) (1.5.1)\n",
      "Requirement already satisfied: graphviz in /Users/nekyian/.local/lib/python3.9/site-packages (from pm4py) (0.20.1)\n",
      "Requirement already satisfied: stringdist in /Users/nekyian/.local/lib/python3.9/site-packages (from pm4py) (1.0.9)\n",
      "Requirement already satisfied: pytz in /Users/nekyian/opt/miniconda3/lib/python3.9/site-packages (from pm4py) (2022.6)\n",
      "Requirement already satisfied: numpy>=1.19.5 in /Users/nekyian/opt/miniconda3/lib/python3.9/site-packages (from pm4py) (1.22.3)\n",
      "Requirement already satisfied: matplotlib in /Users/nekyian/opt/miniconda3/lib/python3.9/site-packages (from pm4py) (3.5.1)\n",
      "Requirement already satisfied: deprecation in /Users/nekyian/.local/lib/python3.9/site-packages (from pm4py) (2.1.0)\n",
      "Requirement already satisfied: jsonpickle in /Users/nekyian/.local/lib/python3.9/site-packages (from pm4py) (2.2.0)\n",
      "Requirement already satisfied: pydotplus in /Users/nekyian/.local/lib/python3.9/site-packages (from pm4py) (2.0.2)\n",
      "Requirement already satisfied: python-dateutil>=2.8.1 in /Users/nekyian/opt/miniconda3/lib/python3.9/site-packages (from pandas>=1.1.5->pm4py) (2.8.2)\n",
      "Requirement already satisfied: six>=1.5 in /Users/nekyian/opt/miniconda3/lib/python3.9/site-packages (from python-dateutil>=2.8.1->pandas>=1.1.5->pm4py) (1.16.0)\n",
      "Requirement already satisfied: packaging in /Users/nekyian/opt/miniconda3/lib/python3.9/site-packages (from deprecation->pm4py) (21.3)\n",
      "Requirement already satisfied: sortedcontainers<3.0,>=2.0 in /Users/nekyian/.local/lib/python3.9/site-packages (from intervaltree->pm4py) (2.4.0)\n",
      "Requirement already satisfied: pyparsing>=2.2.1 in /Users/nekyian/opt/miniconda3/lib/python3.9/site-packages (from matplotlib->pm4py) (3.0.7)\n",
      "Requirement already satisfied: kiwisolver>=1.0.1 in /Users/nekyian/opt/miniconda3/lib/python3.9/site-packages (from matplotlib->pm4py) (1.4.0)\n",
      "Requirement already satisfied: pillow>=6.2.0 in /Users/nekyian/opt/miniconda3/lib/python3.9/site-packages (from matplotlib->pm4py) (9.0.1)\n",
      "Requirement already satisfied: cycler>=0.10 in /Users/nekyian/opt/miniconda3/lib/python3.9/site-packages (from matplotlib->pm4py) (0.11.0)\n",
      "Requirement already satisfied: fonttools>=4.22.0 in /Users/nekyian/opt/miniconda3/lib/python3.9/site-packages (from matplotlib->pm4py) (4.31.1)\n",
      "Requirement already satisfied: ipython>=5.3.0 in /Users/nekyian/opt/miniconda3/lib/python3.9/site-packages (from pyvis->pm4py) (8.1.1)\n",
      "Requirement already satisfied: jinja2>=2.9.6 in /Users/nekyian/opt/miniconda3/lib/python3.9/site-packages (from pyvis->pm4py) (3.0.3)\n",
      "Requirement already satisfied: appnope in /Users/nekyian/opt/miniconda3/lib/python3.9/site-packages (from ipython>=5.3.0->pyvis->pm4py) (0.1.2)\n",
      "Requirement already satisfied: pexpect>4.3 in /Users/nekyian/opt/miniconda3/lib/python3.9/site-packages (from ipython>=5.3.0->pyvis->pm4py) (4.8.0)\n",
      "Requirement already satisfied: pygments>=2.4.0 in /Users/nekyian/opt/miniconda3/lib/python3.9/site-packages (from ipython>=5.3.0->pyvis->pm4py) (2.11.2)\n",
      "Requirement already satisfied: setuptools>=18.5 in /Users/nekyian/opt/miniconda3/lib/python3.9/site-packages (from ipython>=5.3.0->pyvis->pm4py) (58.0.4)\n",
      "Requirement already satisfied: matplotlib-inline in /Users/nekyian/opt/miniconda3/lib/python3.9/site-packages (from ipython>=5.3.0->pyvis->pm4py) (0.1.3)\n",
      "Requirement already satisfied: traitlets>=5 in /Users/nekyian/opt/miniconda3/lib/python3.9/site-packages (from ipython>=5.3.0->pyvis->pm4py) (5.1.1)\n",
      "Requirement already satisfied: backcall in /Users/nekyian/opt/miniconda3/lib/python3.9/site-packages (from ipython>=5.3.0->pyvis->pm4py) (0.2.0)\n",
      "Requirement already satisfied: decorator in /Users/nekyian/opt/miniconda3/lib/python3.9/site-packages (from ipython>=5.3.0->pyvis->pm4py) (5.1.1)\n",
      "Requirement already satisfied: jedi>=0.16 in /Users/nekyian/opt/miniconda3/lib/python3.9/site-packages (from ipython>=5.3.0->pyvis->pm4py) (0.18.1)\n",
      "Requirement already satisfied: stack-data in /Users/nekyian/opt/miniconda3/lib/python3.9/site-packages (from ipython>=5.3.0->pyvis->pm4py) (0.2.0)\n",
      "Requirement already satisfied: prompt-toolkit!=3.0.0,!=3.0.1,<3.1.0,>=2.0.0 in /Users/nekyian/opt/miniconda3/lib/python3.9/site-packages (from ipython>=5.3.0->pyvis->pm4py) (3.0.27)\n",
      "Requirement already satisfied: pickleshare in /Users/nekyian/opt/miniconda3/lib/python3.9/site-packages (from ipython>=5.3.0->pyvis->pm4py) (0.7.5)\n",
      "Requirement already satisfied: parso<0.9.0,>=0.8.0 in /Users/nekyian/opt/miniconda3/lib/python3.9/site-packages (from jedi>=0.16->ipython>=5.3.0->pyvis->pm4py) (0.8.3)\n",
      "Requirement already satisfied: MarkupSafe>=2.0 in /Users/nekyian/opt/miniconda3/lib/python3.9/site-packages (from jinja2>=2.9.6->pyvis->pm4py) (2.1.1)\n",
      "Requirement already satisfied: ptyprocess>=0.5 in /Users/nekyian/opt/miniconda3/lib/python3.9/site-packages (from pexpect>4.3->ipython>=5.3.0->pyvis->pm4py) (0.7.0)\n",
      "Requirement already satisfied: wcwidth in /Users/nekyian/opt/miniconda3/lib/python3.9/site-packages (from prompt-toolkit!=3.0.0,!=3.0.1,<3.1.0,>=2.0.0->ipython>=5.3.0->pyvis->pm4py) (0.2.5)\n",
      "Requirement already satisfied: pure-eval in /Users/nekyian/opt/miniconda3/lib/python3.9/site-packages (from stack-data->ipython>=5.3.0->pyvis->pm4py) (0.2.2)\n",
      "Requirement already satisfied: executing in /Users/nekyian/opt/miniconda3/lib/python3.9/site-packages (from stack-data->ipython>=5.3.0->pyvis->pm4py) (0.8.3)\n",
      "Requirement already satisfied: asttokens in /Users/nekyian/opt/miniconda3/lib/python3.9/site-packages (from stack-data->ipython>=5.3.0->pyvis->pm4py) (2.0.5)\n",
      "Requirement already satisfied: mpmath>=0.19 in /Users/nekyian/.local/lib/python3.9/site-packages (from sympy->pm4py) (1.2.1)\n"
     ]
    }
   ],
   "source": [
    "!pip install pm4py --user"
   ]
  },
  {
   "cell_type": "code",
   "execution_count": 24,
   "id": "5610e420",
   "metadata": {},
   "outputs": [],
   "source": [
    "from pm4py.objects.conversion.log import converter as log_converter\n",
    "from pm4py.objects.log.importer.xes import importer as xes_importer\n",
    "\n",
    "# process mining \n",
    "from pm4py.algo.discovery.alpha import algorithm as alpha_miner\n",
    "from pm4py.algo.discovery.inductive import algorithm as inductive_miner\n",
    "from pm4py.algo.discovery.heuristics import algorithm as heuristics_miner\n",
    "from pm4py.algo.discovery.dfg import algorithm as dfg_discovery\n",
    "\n",
    "# viz\n",
    "from pm4py.visualization.petri_net import visualizer as pn_visualizer\n",
    "from pm4py.visualization.process_tree import visualizer as pt_visualizer\n",
    "from pm4py.visualization.heuristics_net import visualizer as hn_visualizer\n",
    "from pm4py.visualization.dfg import visualizer as dfg_visualization\n",
    "\n",
    "# misc \n",
    "from pm4py.objects.conversion.process_tree import converter as pt_converter"
   ]
  },
  {
   "cell_type": "code",
   "execution_count": 22,
   "id": "82ed49d5",
   "metadata": {},
   "outputs": [
    {
     "data": {
      "text/html": [
       "<div>\n",
       "<style scoped>\n",
       "    .dataframe tbody tr th:only-of-type {\n",
       "        vertical-align: middle;\n",
       "    }\n",
       "\n",
       "    .dataframe tbody tr th {\n",
       "        vertical-align: top;\n",
       "    }\n",
       "\n",
       "    .dataframe thead th {\n",
       "        text-align: right;\n",
       "    }\n",
       "</style>\n",
       "<table border=\"1\" class=\"dataframe\">\n",
       "  <thead>\n",
       "    <tr style=\"text-align: right;\">\n",
       "      <th></th>\n",
       "      <th>patient</th>\n",
       "      <th>action</th>\n",
       "      <th>resource</th>\n",
       "      <th>datetime</th>\n",
       "      <th>caseend</th>\n",
       "      <th>casestart</th>\n",
       "      <th>relativetime</th>\n",
       "      <th>action_sequence</th>\n",
       "      <th>numactions</th>\n",
       "      <th>caselength</th>\n",
       "      <th>weekday</th>\n",
       "      <th>date</th>\n",
       "      <th>startdate</th>\n",
       "      <th>hour</th>\n",
       "      <th>relativetime_s</th>\n",
       "      <th>relativedays</th>\n",
       "    </tr>\n",
       "  </thead>\n",
       "  <tbody>\n",
       "    <tr>\n",
       "      <th>0</th>\n",
       "      <td>patient 0</td>\n",
       "      <td>First consult</td>\n",
       "      <td>Dr. Anna</td>\n",
       "      <td>2017-01-02 11:40:11</td>\n",
       "      <td>2017-01-09 08:29:28</td>\n",
       "      <td>2017-01-02 11:40:11</td>\n",
       "      <td>0 days 00:00:00</td>\n",
       "      <td>First consult___Blood test___Physical test___S...</td>\n",
       "      <td>6</td>\n",
       "      <td>6 days 20:49:17</td>\n",
       "      <td>0</td>\n",
       "      <td>2017-01-02</td>\n",
       "      <td>2017-01-02</td>\n",
       "      <td>11</td>\n",
       "      <td>0</td>\n",
       "      <td>0</td>\n",
       "    </tr>\n",
       "    <tr>\n",
       "      <th>1</th>\n",
       "      <td>patient 0</td>\n",
       "      <td>Blood test</td>\n",
       "      <td>Lab</td>\n",
       "      <td>2017-01-02 12:47:33</td>\n",
       "      <td>2017-01-09 08:29:28</td>\n",
       "      <td>2017-01-02 11:40:11</td>\n",
       "      <td>0 days 01:07:22</td>\n",
       "      <td>First consult___Blood test___Physical test___S...</td>\n",
       "      <td>6</td>\n",
       "      <td>6 days 20:49:17</td>\n",
       "      <td>0</td>\n",
       "      <td>2017-01-02</td>\n",
       "      <td>2017-01-02</td>\n",
       "      <td>12</td>\n",
       "      <td>4042</td>\n",
       "      <td>0</td>\n",
       "    </tr>\n",
       "    <tr>\n",
       "      <th>2</th>\n",
       "      <td>patient 0</td>\n",
       "      <td>Physical test</td>\n",
       "      <td>Nurse Jesse</td>\n",
       "      <td>2017-01-02 12:53:50</td>\n",
       "      <td>2017-01-09 08:29:28</td>\n",
       "      <td>2017-01-02 11:40:11</td>\n",
       "      <td>0 days 01:13:39</td>\n",
       "      <td>First consult___Blood test___Physical test___S...</td>\n",
       "      <td>6</td>\n",
       "      <td>6 days 20:49:17</td>\n",
       "      <td>0</td>\n",
       "      <td>2017-01-02</td>\n",
       "      <td>2017-01-02</td>\n",
       "      <td>12</td>\n",
       "      <td>4419</td>\n",
       "      <td>0</td>\n",
       "    </tr>\n",
       "    <tr>\n",
       "      <th>3</th>\n",
       "      <td>patient 0</td>\n",
       "      <td>Second consult</td>\n",
       "      <td>Dr. Anna</td>\n",
       "      <td>2017-01-02 16:21:06</td>\n",
       "      <td>2017-01-09 08:29:28</td>\n",
       "      <td>2017-01-02 11:40:11</td>\n",
       "      <td>0 days 04:40:55</td>\n",
       "      <td>First consult___Blood test___Physical test___S...</td>\n",
       "      <td>6</td>\n",
       "      <td>6 days 20:49:17</td>\n",
       "      <td>0</td>\n",
       "      <td>2017-01-02</td>\n",
       "      <td>2017-01-02</td>\n",
       "      <td>16</td>\n",
       "      <td>16855</td>\n",
       "      <td>0</td>\n",
       "    </tr>\n",
       "    <tr>\n",
       "      <th>4</th>\n",
       "      <td>patient 0</td>\n",
       "      <td>Surgery</td>\n",
       "      <td>Dr. Charlie</td>\n",
       "      <td>2017-01-05 13:23:09</td>\n",
       "      <td>2017-01-09 08:29:28</td>\n",
       "      <td>2017-01-02 11:40:11</td>\n",
       "      <td>3 days 01:42:58</td>\n",
       "      <td>First consult___Blood test___Physical test___S...</td>\n",
       "      <td>6</td>\n",
       "      <td>6 days 20:49:17</td>\n",
       "      <td>3</td>\n",
       "      <td>2017-01-05</td>\n",
       "      <td>2017-01-02</td>\n",
       "      <td>13</td>\n",
       "      <td>265378</td>\n",
       "      <td>3</td>\n",
       "    </tr>\n",
       "  </tbody>\n",
       "</table>\n",
       "</div>"
      ],
      "text/plain": [
       "     patient          action      resource            datetime  \\\n",
       "0  patient 0   First consult      Dr. Anna 2017-01-02 11:40:11   \n",
       "1  patient 0      Blood test           Lab 2017-01-02 12:47:33   \n",
       "2  patient 0   Physical test   Nurse Jesse 2017-01-02 12:53:50   \n",
       "3  patient 0  Second consult      Dr. Anna 2017-01-02 16:21:06   \n",
       "4  patient 0         Surgery   Dr. Charlie 2017-01-05 13:23:09   \n",
       "\n",
       "              caseend           casestart    relativetime  \\\n",
       "0 2017-01-09 08:29:28 2017-01-02 11:40:11 0 days 00:00:00   \n",
       "1 2017-01-09 08:29:28 2017-01-02 11:40:11 0 days 01:07:22   \n",
       "2 2017-01-09 08:29:28 2017-01-02 11:40:11 0 days 01:13:39   \n",
       "3 2017-01-09 08:29:28 2017-01-02 11:40:11 0 days 04:40:55   \n",
       "4 2017-01-09 08:29:28 2017-01-02 11:40:11 3 days 01:42:58   \n",
       "\n",
       "                                     action_sequence  numactions  \\\n",
       "0  First consult___Blood test___Physical test___S...           6   \n",
       "1  First consult___Blood test___Physical test___S...           6   \n",
       "2  First consult___Blood test___Physical test___S...           6   \n",
       "3  First consult___Blood test___Physical test___S...           6   \n",
       "4  First consult___Blood test___Physical test___S...           6   \n",
       "\n",
       "       caselength  weekday        date   startdate  hour  relativetime_s  \\\n",
       "0 6 days 20:49:17        0  2017-01-02  2017-01-02    11               0   \n",
       "1 6 days 20:49:17        0  2017-01-02  2017-01-02    12            4042   \n",
       "2 6 days 20:49:17        0  2017-01-02  2017-01-02    12            4419   \n",
       "3 6 days 20:49:17        0  2017-01-02  2017-01-02    16           16855   \n",
       "4 6 days 20:49:17        3  2017-01-05  2017-01-02    13          265378   \n",
       "\n",
       "   relativedays  \n",
       "0             0  \n",
       "1             0  \n",
       "2             0  \n",
       "3             0  \n",
       "4             3  "
      ]
     },
     "execution_count": 22,
     "metadata": {},
     "output_type": "execute_result"
    }
   ],
   "source": [
    "events.head()"
   ]
  },
  {
   "cell_type": "code",
   "execution_count": 25,
   "id": "42a839c0",
   "metadata": {},
   "outputs": [],
   "source": [
    "eventlog = events.copy()\n",
    "### Specify which columns correspond to case (case:concept:name), \n",
    "###event (concept:name) and timestamp (time:timestamp) - rename columns in accordance\n",
    "###with pm4py\n",
    "\n",
    "eventlog.rename(columns={'datetime': 'time:timestamp', 'patient': 'case:concept:name', 'action': 'concept:name', 'resource': 'org:resource'}, inplace=True)\n",
    "\n",
    "## Convert to log format\n",
    "log = log_converter.apply(eventlog)"
   ]
  },
  {
   "cell_type": "code",
   "execution_count": 26,
   "id": "e1b8e96c",
   "metadata": {},
   "outputs": [
    {
     "data": {
      "image/png": "[encoded data removed]",
      "text/plain": [
       "<IPython.core.display.Image object>"
      ]
     },
     "metadata": {},
     "output_type": "display_data"
    }
   ],
   "source": [
    " # alpha miner\n",
    "net, initial_marking, final_marking = alpha_miner.apply(log)\n",
    "\n",
    "# Visualise\n",
    "gviz = pn_visualizer.apply(net, initial_marking, final_marking)\n",
    "pn_visualizer.view(gviz)"
   ]
  }
 ],
 "metadata": {
  "kernelspec": {
   "display_name": "Python 3 (ipykernel)",
   "language": "python",
   "name": "python3"
  },
  "language_info": {
   "codemirror_mode": {
    "name": "ipython",
    "version": 3
   },
   "file_extension": ".py",
   "mimetype": "text/x-python",
   "name": "python",
   "nbconvert_exporter": "python",
   "pygments_lexer": "ipython3",
   "version": "3.9.7"
  }
 },
 "nbformat": 4,
 "nbformat_minor": 5
}
